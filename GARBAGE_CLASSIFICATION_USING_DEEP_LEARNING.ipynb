{
  "nbformat": 4,
  "nbformat_minor": 0,
  "metadata": {
    "colab": {
      "provenance": []
    },
    "kernelspec": {
      "name": "python3",
      "display_name": "Python 3"
    },
    "language_info": {
      "name": "python"
    }
  },
  "cells": [
    {
      "cell_type": "markdown",
      "source": [
        "**PROBLEM STATEMENT :** The present way of separating waste/garbage is the hand-picking method, whereby someone is employed to separate out the different objects/materials. The person who separates waste, is prone to diseases due to the harmful substances in the garbage. With this in mind, it motivated us to develop an automated system which is able to sort the waste. and this system can take a short time to sort the waste, and it will be more accurate in sorting than the manual way. With the system in place, the beneficial separated waste can still be recycled and converted to energy and fuel for the growth of the economy. The system that is developed for the separation of the accumulated waste is based on the combination of Convolutional Neural Network."
      ],
      "metadata": {
        "id": "K9TMKKmIQJAW"
      }
    },
    {
      "cell_type": "markdown",
      "source": [
        "**Load Dataseet**"
      ],
      "metadata": {
        "id": "_s_caUO3QRvV"
      }
    },
    {
      "cell_type": "code",
      "execution_count": null,
      "metadata": {
        "colab": {
          "base_uri": "https://localhost:8080/"
        },
        "id": "OEZezzL3QF8f",
        "outputId": "cb56ec85-bf44-4690-b9b2-0696322ca815"
      },
      "outputs": [
        {
          "output_type": "stream",
          "name": "stdout",
          "text": [
            "Drive already mounted at /content/drive; to attempt to forcibly remount, call drive.mount(\"/content/drive\", force_remount=True).\n"
          ]
        }
      ],
      "source": [
        "from google.colab import drive\n",
        "drive.mount('/content/drive')"
      ]
    },
    {
      "cell_type": "markdown",
      "source": [
        "**DATA Augumentation**"
      ],
      "metadata": {
        "id": "0lDLySBWXCqb"
      }
    },
    {
      "cell_type": "code",
      "source": [
        "from tensorflow.keras.preprocessing.image import ImageDataGenerator"
      ],
      "metadata": {
        "id": "7-aIN6LKXEhK"
      },
      "execution_count": null,
      "outputs": []
    },
    {
      "cell_type": "code",
      "source": [
        "train_datagen = ImageDataGenerator(rescale=1./255,\n",
        "                                   zoom_range=0.1,\n",
        "                                   shear_range=0.1,\n",
        "                                   horizontal_flip=True,\n",
        "                                   vertical_flip=True)"
      ],
      "metadata": {
        "id": "oXVEE-NHXOTM"
      },
      "execution_count": null,
      "outputs": []
    },
    {
      "cell_type": "code",
      "source": [
        "test_datagen = ImageDataGenerator(rescale=1./255)"
      ],
      "metadata": {
        "id": "_F35g5UlXOPv"
      },
      "execution_count": null,
      "outputs": []
    },
    {
      "cell_type": "markdown",
      "source": [
        "**Insert Train Dataset and Test Dataset**"
      ],
      "metadata": {
        "id": "4QRbZFOKWGD3"
      }
    },
    {
      "cell_type": "code",
      "source": [
        "train_transform = train_datagen.flow_from_directory('/content/drive/MyDrive/Garbage classification/train',\n",
        "                                           target_size=(128,128),\n",
        "                                           class_mode='categorical',\n",
        "                                           batch_size=64)"
      ],
      "metadata": {
        "colab": {
          "base_uri": "https://localhost:8080/"
        },
        "id": "uTe2EwadWFoO",
        "outputId": "fe725adb-95a8-4729-d43b-fd27e9767fe3"
      },
      "execution_count": null,
      "outputs": [
        {
          "output_type": "stream",
          "name": "stdout",
          "text": [
            "Found 2527 images belonging to 6 classes.\n"
          ]
        }
      ]
    },
    {
      "cell_type": "code",
      "source": [
        "test_transform = test_datagen.flow_from_directory('/content/drive/MyDrive/Garbage classification/test',\n",
        "                                         target_size=(128,128),\n",
        "                                         class_mode='categorical',\n",
        "                                         batch_size=64)"
      ],
      "metadata": {
        "colab": {
          "base_uri": "https://localhost:8080/"
        },
        "id": "8MR6ACxLWFjp",
        "outputId": "0bf985e6-5571-4058-96c5-f1b23d7060fc"
      },
      "execution_count": null,
      "outputs": [
        {
          "output_type": "stream",
          "name": "stdout",
          "text": [
            "Found 1328 images belonging to 6 classes.\n"
          ]
        }
      ]
    },
    {
      "cell_type": "markdown",
      "source": [
        "**Importing Libraries**"
      ],
      "metadata": {
        "id": "CndZACH7X0he"
      }
    },
    {
      "cell_type": "code",
      "source": [
        "#to define linear initializations import Sequential\n",
        "from tensorflow.keras.models import Sequential\n",
        "#to add layers import Dense\n",
        "from tensorflow.keras.layers import Dense\n",
        "#to create a convolution kernel import Convolution2D\n",
        "from tensorflow.keras.layers import Convolution2D\n",
        "#Adding Max Pooling Layer\n",
        "from tensorflow.keras.layers import MaxPooling2D\n",
        "#Adding Flatten Layer\n",
        "from tensorflow.keras.layers import Flatten\n",
        "from tensorflow.keras.optimizers import Adam"
      ],
      "metadata": {
        "id": "bktCtROJWFeq"
      },
      "execution_count": null,
      "outputs": []
    },
    {
      "cell_type": "code",
      "source": [
        "#Initialize The Model\n",
        "model=Sequential()"
      ],
      "metadata": {
        "id": "VUqwOTDMWFZ_"
      },
      "execution_count": null,
      "outputs": []
    },
    {
      "cell_type": "markdown",
      "source": [
        "**Adding CNN layer**"
      ],
      "metadata": {
        "id": "YEezsAoFcM88"
      }
    },
    {
      "cell_type": "code",
      "source": [
        "#first Convolution layer and pooling\n",
        "model.add(Convolution2D(32,(3,3),input_shape=(128,128,3), activation='relu'))\n",
        "model.add(MaxPooling2D(2,2))"
      ],
      "metadata": {
        "id": "GqJs8jvmWFVL"
      },
      "execution_count": null,
      "outputs": []
    },
    {
      "cell_type": "code",
      "source": [
        "#Second Convolution layer and pooling\n",
        "model.add(Convolution2D(64,(3,3),padding='same',activation='relu'))\n",
        "#input shape is going to be the pooled feature maps from the previous convolution.\n",
        "model.add(MaxPooling2D(pool_size=2))"
      ],
      "metadata": {
        "id": "0nDC4lefWFG-"
      },
      "execution_count": null,
      "outputs": []
    },
    {
      "cell_type": "code",
      "source": [
        "#Third Convolution layer and pooling\n",
        "model.add(Convolution2D(32,(3,3),activation='relu'))\n",
        "model.add(MaxPooling2D(2,2))"
      ],
      "metadata": {
        "id": "sQv5KTQJaEAa"
      },
      "execution_count": null,
      "outputs": []
    },
    {
      "cell_type": "code",
      "source": [
        "#fourth Convolution layer and pooling\n",
        "model.add(Convolution2D(32,(3,3),padding='same',activation='relu'))\n",
        "#input shape is going to be the pooled feature maps from the previous convolution.\n",
        "model.add(MaxPooling2D(pool_size=2))"
      ],
      "metadata": {
        "id": "bSF1bkPIaD8I"
      },
      "execution_count": null,
      "outputs": []
    },
    {
      "cell_type": "code",
      "source": [
        "#Flattering Layers\n",
        "model.add(Flatten())"
      ],
      "metadata": {
        "id": "d_TxFJRjaD4U"
      },
      "execution_count": null,
      "outputs": []
    },
    {
      "cell_type": "markdown",
      "source": [
        "**Adding Fully Connected Layer**"
      ],
      "metadata": {
        "id": "H5Uc5T6icTqA"
      }
    },
    {
      "cell_type": "code",
      "source": [
        "#Adding 1st hidden layer\n",
        "model.add(Dense(kernel_initializer='uniform',activation='relu',units=200))\n",
        "#Adding 2nd hidden layer\n",
        "model.add(Dense(kernel_initializer='uniform',activation='relu',units=100))\n",
        "model.add(Dense(kernel_initializer='uniform',activation='softmax',units=6))"
      ],
      "metadata": {
        "id": "AaR8xXfOaDn2"
      },
      "execution_count": null,
      "outputs": []
    },
    {
      "cell_type": "markdown",
      "source": [
        "**Model Summary**"
      ],
      "metadata": {
        "id": "rCClnqnXdc5V"
      }
    },
    {
      "cell_type": "code",
      "source": [
        "model.summary()"
      ],
      "metadata": {
        "colab": {
          "base_uri": "https://localhost:8080/"
        },
        "id": "Z-P4z-PWaDkR",
        "outputId": "ab50da3d-ba3d-497a-859d-7cc088cfc515"
      },
      "execution_count": null,
      "outputs": [
        {
          "output_type": "stream",
          "name": "stdout",
          "text": [
            "Model: \"sequential\"\n",
            "_________________________________________________________________\n",
            " Layer (type)                Output Shape              Param #   \n",
            "=================================================================\n",
            " conv2d (Conv2D)             (None, 126, 126, 32)      896       \n",
            "                                                                 \n",
            " max_pooling2d (MaxPooling2D  (None, 63, 63, 32)       0         \n",
            " )                                                               \n",
            "                                                                 \n",
            " conv2d_1 (Conv2D)           (None, 63, 63, 64)        18496     \n",
            "                                                                 \n",
            " max_pooling2d_1 (MaxPooling  (None, 31, 31, 64)       0         \n",
            " 2D)                                                             \n",
            "                                                                 \n",
            " conv2d_2 (Conv2D)           (None, 29, 29, 32)        18464     \n",
            "                                                                 \n",
            " max_pooling2d_2 (MaxPooling  (None, 14, 14, 32)       0         \n",
            " 2D)                                                             \n",
            "                                                                 \n",
            " conv2d_3 (Conv2D)           (None, 14, 14, 32)        9248      \n",
            "                                                                 \n",
            " max_pooling2d_3 (MaxPooling  (None, 7, 7, 32)         0         \n",
            " 2D)                                                             \n",
            "                                                                 \n",
            " flatten (Flatten)           (None, 1568)              0         \n",
            "                                                                 \n",
            " dense (Dense)               (None, 200)               313800    \n",
            "                                                                 \n",
            " dense_1 (Dense)             (None, 100)               20100     \n",
            "                                                                 \n",
            " dense_2 (Dense)             (None, 6)                 606       \n",
            "                                                                 \n",
            "=================================================================\n",
            "Total params: 381,610\n",
            "Trainable params: 381,610\n",
            "Non-trainable params: 0\n",
            "_________________________________________________________________\n"
          ]
        }
      ]
    },
    {
      "cell_type": "markdown",
      "source": [
        "**Compile a model**"
      ],
      "metadata": {
        "id": "Kvp6xq1HdmZn"
      }
    },
    {
      "cell_type": "code",
      "source": [
        "model.compile(loss='categorical_crossentropy',optimizer='adam',\n",
        "              metrics=['accuracy'])"
      ],
      "metadata": {
        "id": "O70bwvtTdRXd"
      },
      "execution_count": null,
      "outputs": []
    },
    {
      "cell_type": "markdown",
      "source": [
        "# **Model Training**"
      ],
      "metadata": {
        "id": "mjjBbBHkdxey"
      }
    },
    {
      "cell_type": "code",
      "source": [
        "res=model.fit(train_transform,steps_per_epoch=2527//64,validation_steps=1328//64,\n",
        "              epochs=100,validation_data=test_transform)"
      ],
      "metadata": {
        "colab": {
          "base_uri": "https://localhost:8080/"
        },
        "id": "DrPklvrLdRSl",
        "outputId": "944d3903-e21a-401a-ad04-8fcb6589c67a"
      },
      "execution_count": null,
      "outputs": [
        {
          "output_type": "stream",
          "name": "stdout",
          "text": [
            "Epoch 1/100\n",
            "39/39 [==============================] - 239s 6s/step - loss: 1.6977 - accuracy: 0.2460 - val_loss: 1.6547 - val_accuracy: 0.2766\n",
            "Epoch 2/100\n",
            "39/39 [==============================] - 121s 3s/step - loss: 1.5457 - accuracy: 0.3540 - val_loss: 1.5348 - val_accuracy: 0.3500\n",
            "Epoch 3/100\n",
            "39/39 [==============================] - 110s 3s/step - loss: 1.4780 - accuracy: 0.3642 - val_loss: 1.4560 - val_accuracy: 0.3789\n",
            "Epoch 4/100\n",
            "39/39 [==============================] - 115s 3s/step - loss: 1.4034 - accuracy: 0.3995 - val_loss: 1.5286 - val_accuracy: 0.3633\n",
            "Epoch 5/100\n",
            "39/39 [==============================] - 117s 3s/step - loss: 1.4110 - accuracy: 0.3967 - val_loss: 1.3236 - val_accuracy: 0.4531\n",
            "Epoch 6/100\n",
            "39/39 [==============================] - 117s 3s/step - loss: 1.3049 - accuracy: 0.4535 - val_loss: 1.2784 - val_accuracy: 0.4859\n",
            "Epoch 7/100\n",
            "39/39 [==============================] - 123s 3s/step - loss: 1.2501 - accuracy: 0.4815 - val_loss: 1.2497 - val_accuracy: 0.5070\n",
            "Epoch 8/100\n",
            "39/39 [==============================] - 115s 3s/step - loss: 1.2277 - accuracy: 0.5156 - val_loss: 1.2313 - val_accuracy: 0.5086\n",
            "Epoch 9/100\n",
            "39/39 [==============================] - 114s 3s/step - loss: 1.1830 - accuracy: 0.5331 - val_loss: 1.2118 - val_accuracy: 0.5328\n",
            "Epoch 10/100\n",
            "39/39 [==============================] - 115s 3s/step - loss: 1.1410 - accuracy: 0.5680 - val_loss: 1.1567 - val_accuracy: 0.5633\n",
            "Epoch 11/100\n",
            "39/39 [==============================] - 111s 3s/step - loss: 1.0802 - accuracy: 0.5895 - val_loss: 1.1705 - val_accuracy: 0.5508\n",
            "Epoch 12/100\n",
            "39/39 [==============================] - 120s 3s/step - loss: 1.0494 - accuracy: 0.5968 - val_loss: 1.1152 - val_accuracy: 0.5828\n",
            "Epoch 13/100\n",
            "39/39 [==============================] - 113s 3s/step - loss: 1.0081 - accuracy: 0.6212 - val_loss: 1.0743 - val_accuracy: 0.5992\n",
            "Epoch 14/100\n",
            "39/39 [==============================] - 113s 3s/step - loss: 0.9352 - accuracy: 0.6451 - val_loss: 1.0720 - val_accuracy: 0.6031\n",
            "Epoch 15/100\n",
            "39/39 [==============================] - 113s 3s/step - loss: 0.9265 - accuracy: 0.6480 - val_loss: 0.9482 - val_accuracy: 0.6492\n",
            "Epoch 16/100\n",
            "39/39 [==============================] - 123s 3s/step - loss: 0.8978 - accuracy: 0.6508 - val_loss: 0.8811 - val_accuracy: 0.6594\n",
            "Epoch 17/100\n",
            "39/39 [==============================] - 116s 3s/step - loss: 0.8919 - accuracy: 0.6630 - val_loss: 0.9417 - val_accuracy: 0.6562\n",
            "Epoch 18/100\n",
            "39/39 [==============================] - 112s 3s/step - loss: 0.8569 - accuracy: 0.6703 - val_loss: 1.0250 - val_accuracy: 0.6281\n",
            "Epoch 19/100\n",
            "39/39 [==============================] - 107s 3s/step - loss: 0.8740 - accuracy: 0.6594 - val_loss: 0.7927 - val_accuracy: 0.7070\n",
            "Epoch 20/100\n",
            "39/39 [==============================] - 107s 3s/step - loss: 0.7708 - accuracy: 0.7142 - val_loss: 1.0269 - val_accuracy: 0.6359\n",
            "Epoch 21/100\n",
            "39/39 [==============================] - 113s 3s/step - loss: 0.7675 - accuracy: 0.7142 - val_loss: 0.8798 - val_accuracy: 0.6812\n",
            "Epoch 22/100\n",
            "39/39 [==============================] - 114s 3s/step - loss: 0.7340 - accuracy: 0.7337 - val_loss: 0.7099 - val_accuracy: 0.7273\n",
            "Epoch 23/100\n",
            "39/39 [==============================] - 112s 3s/step - loss: 0.7216 - accuracy: 0.7389 - val_loss: 0.7620 - val_accuracy: 0.7039\n",
            "Epoch 24/100\n",
            "39/39 [==============================] - 107s 3s/step - loss: 0.7136 - accuracy: 0.7402 - val_loss: 0.7108 - val_accuracy: 0.7328\n",
            "Epoch 25/100\n",
            "39/39 [==============================] - 107s 3s/step - loss: 0.6637 - accuracy: 0.7487 - val_loss: 0.6667 - val_accuracy: 0.7563\n",
            "Epoch 26/100\n",
            "39/39 [==============================] - 116s 3s/step - loss: 0.6386 - accuracy: 0.7653 - val_loss: 0.6797 - val_accuracy: 0.7547\n",
            "Epoch 27/100\n",
            "39/39 [==============================] - 115s 3s/step - loss: 0.6293 - accuracy: 0.7605 - val_loss: 0.6554 - val_accuracy: 0.7578\n",
            "Epoch 28/100\n",
            "39/39 [==============================] - 115s 3s/step - loss: 0.6302 - accuracy: 0.7625 - val_loss: 0.6483 - val_accuracy: 0.7531\n",
            "Epoch 29/100\n",
            "39/39 [==============================] - 109s 3s/step - loss: 0.5667 - accuracy: 0.7905 - val_loss: 0.5988 - val_accuracy: 0.7805\n",
            "Epoch 30/100\n",
            "39/39 [==============================] - 114s 3s/step - loss: 0.5554 - accuracy: 0.7933 - val_loss: 0.5844 - val_accuracy: 0.7875\n",
            "Epoch 31/100\n",
            "39/39 [==============================] - 121s 3s/step - loss: 0.5600 - accuracy: 0.7970 - val_loss: 0.5465 - val_accuracy: 0.7891\n",
            "Epoch 32/100\n",
            "39/39 [==============================] - 116s 3s/step - loss: 0.5465 - accuracy: 0.7962 - val_loss: 0.5380 - val_accuracy: 0.7977\n",
            "Epoch 33/100\n",
            "39/39 [==============================] - 113s 3s/step - loss: 0.5290 - accuracy: 0.7954 - val_loss: 0.6901 - val_accuracy: 0.7563\n",
            "Epoch 34/100\n",
            "39/39 [==============================] - 115s 3s/step - loss: 0.5442 - accuracy: 0.8023 - val_loss: 0.6515 - val_accuracy: 0.7633\n",
            "Epoch 35/100\n",
            "39/39 [==============================] - 115s 3s/step - loss: 0.5040 - accuracy: 0.8230 - val_loss: 0.4369 - val_accuracy: 0.8320\n",
            "Epoch 36/100\n",
            "39/39 [==============================] - 121s 3s/step - loss: 0.4849 - accuracy: 0.8136 - val_loss: 0.4543 - val_accuracy: 0.8305\n",
            "Epoch 37/100\n",
            "39/39 [==============================] - 114s 3s/step - loss: 0.4179 - accuracy: 0.8469 - val_loss: 0.4782 - val_accuracy: 0.8250\n",
            "Epoch 38/100\n",
            "39/39 [==============================] - 113s 3s/step - loss: 0.4405 - accuracy: 0.8392 - val_loss: 0.4646 - val_accuracy: 0.8344\n",
            "Epoch 39/100\n",
            "39/39 [==============================] - 115s 3s/step - loss: 0.3976 - accuracy: 0.8514 - val_loss: 0.3805 - val_accuracy: 0.8578\n",
            "Epoch 40/100\n",
            "39/39 [==============================] - 115s 3s/step - loss: 0.4550 - accuracy: 0.8352 - val_loss: 0.5076 - val_accuracy: 0.8125\n",
            "Epoch 41/100\n",
            "39/39 [==============================] - 121s 3s/step - loss: 0.4266 - accuracy: 0.8469 - val_loss: 0.3914 - val_accuracy: 0.8500\n",
            "Epoch 42/100\n",
            "39/39 [==============================] - 109s 3s/step - loss: 0.4207 - accuracy: 0.8445 - val_loss: 0.4506 - val_accuracy: 0.8266\n",
            "Epoch 43/100\n",
            "39/39 [==============================] - 113s 3s/step - loss: 0.3548 - accuracy: 0.8705 - val_loss: 0.4107 - val_accuracy: 0.8477\n",
            "Epoch 44/100\n",
            "39/39 [==============================] - 113s 3s/step - loss: 0.3544 - accuracy: 0.8693 - val_loss: 0.3431 - val_accuracy: 0.8695\n",
            "Epoch 45/100\n",
            "39/39 [==============================] - 108s 3s/step - loss: 0.3227 - accuracy: 0.8835 - val_loss: 0.3192 - val_accuracy: 0.8859\n",
            "Epoch 46/100\n",
            "39/39 [==============================] - 120s 3s/step - loss: 0.3021 - accuracy: 0.8892 - val_loss: 0.5066 - val_accuracy: 0.8281\n",
            "Epoch 47/100\n",
            "39/39 [==============================] - 108s 3s/step - loss: 0.3451 - accuracy: 0.8685 - val_loss: 0.4823 - val_accuracy: 0.8336\n",
            "Epoch 48/100\n",
            "39/39 [==============================] - 112s 3s/step - loss: 0.3187 - accuracy: 0.8782 - val_loss: 0.4254 - val_accuracy: 0.8547\n",
            "Epoch 49/100\n",
            "39/39 [==============================] - 114s 3s/step - loss: 0.3031 - accuracy: 0.8843 - val_loss: 0.2716 - val_accuracy: 0.9102\n",
            "Epoch 50/100\n",
            "39/39 [==============================] - 109s 3s/step - loss: 0.2654 - accuracy: 0.9066 - val_loss: 0.3807 - val_accuracy: 0.8687\n",
            "Epoch 51/100\n",
            "39/39 [==============================] - 125s 3s/step - loss: 0.3055 - accuracy: 0.8904 - val_loss: 0.2477 - val_accuracy: 0.9148\n",
            "Epoch 52/100\n",
            "39/39 [==============================] - 114s 3s/step - loss: 0.2926 - accuracy: 0.8900 - val_loss: 0.3327 - val_accuracy: 0.8773\n",
            "Epoch 53/100\n",
            "39/39 [==============================] - 114s 3s/step - loss: 0.2543 - accuracy: 0.9038 - val_loss: 0.2887 - val_accuracy: 0.8898\n",
            "Epoch 54/100\n",
            "39/39 [==============================] - 106s 3s/step - loss: 0.2284 - accuracy: 0.9095 - val_loss: 0.2428 - val_accuracy: 0.9109\n",
            "Epoch 55/100\n",
            "39/39 [==============================] - 113s 3s/step - loss: 0.2438 - accuracy: 0.9086 - val_loss: 0.2858 - val_accuracy: 0.8969\n",
            "Epoch 56/100\n",
            "39/39 [==============================] - 113s 3s/step - loss: 0.1996 - accuracy: 0.9294 - val_loss: 0.1924 - val_accuracy: 0.9336\n",
            "Epoch 57/100\n",
            "39/39 [==============================] - 114s 3s/step - loss: 0.1796 - accuracy: 0.9359 - val_loss: 0.2763 - val_accuracy: 0.8984\n",
            "Epoch 58/100\n",
            "39/39 [==============================] - 112s 3s/step - loss: 0.2521 - accuracy: 0.9119 - val_loss: 0.2158 - val_accuracy: 0.9258\n",
            "Epoch 59/100\n",
            "39/39 [==============================] - 114s 3s/step - loss: 0.1903 - accuracy: 0.9310 - val_loss: 0.3113 - val_accuracy: 0.8906\n",
            "Epoch 60/100\n",
            "39/39 [==============================] - 113s 3s/step - loss: 0.1950 - accuracy: 0.9334 - val_loss: 0.2047 - val_accuracy: 0.9273\n",
            "Epoch 61/100\n",
            "39/39 [==============================] - 114s 3s/step - loss: 0.2064 - accuracy: 0.9249 - val_loss: 0.2149 - val_accuracy: 0.9281\n",
            "Epoch 62/100\n",
            "39/39 [==============================] - 114s 3s/step - loss: 0.1676 - accuracy: 0.9423 - val_loss: 0.2230 - val_accuracy: 0.9156\n",
            "Epoch 63/100\n",
            "39/39 [==============================] - 114s 3s/step - loss: 0.1694 - accuracy: 0.9387 - val_loss: 0.2407 - val_accuracy: 0.9156\n",
            "Epoch 64/100\n",
            "39/39 [==============================] - 113s 3s/step - loss: 0.2257 - accuracy: 0.9225 - val_loss: 0.2852 - val_accuracy: 0.8859\n",
            "Epoch 65/100\n",
            "39/39 [==============================] - 106s 3s/step - loss: 0.1729 - accuracy: 0.9428 - val_loss: 0.1495 - val_accuracy: 0.9492\n",
            "Epoch 66/100\n",
            "39/39 [==============================] - 114s 3s/step - loss: 0.1742 - accuracy: 0.9334 - val_loss: 0.3186 - val_accuracy: 0.8898\n",
            "Epoch 67/100\n",
            "39/39 [==============================] - 113s 3s/step - loss: 0.2419 - accuracy: 0.9123 - val_loss: 0.1893 - val_accuracy: 0.9352\n",
            "Epoch 68/100\n",
            "39/39 [==============================] - 114s 3s/step - loss: 0.1585 - accuracy: 0.9403 - val_loss: 0.2062 - val_accuracy: 0.9336\n",
            "Epoch 69/100\n",
            "39/39 [==============================] - 113s 3s/step - loss: 0.1306 - accuracy: 0.9541 - val_loss: 0.1456 - val_accuracy: 0.9492\n",
            "Epoch 70/100\n",
            "39/39 [==============================] - 106s 3s/step - loss: 0.1173 - accuracy: 0.9578 - val_loss: 0.2347 - val_accuracy: 0.9227\n",
            "Epoch 71/100\n",
            "39/39 [==============================] - 107s 3s/step - loss: 0.1572 - accuracy: 0.9411 - val_loss: 0.2604 - val_accuracy: 0.9102\n",
            "Epoch 72/100\n",
            "39/39 [==============================] - 114s 3s/step - loss: 0.3374 - accuracy: 0.8839 - val_loss: 0.3289 - val_accuracy: 0.8742\n",
            "Epoch 73/100\n",
            "39/39 [==============================] - 114s 3s/step - loss: 0.1876 - accuracy: 0.9289 - val_loss: 0.1189 - val_accuracy: 0.9625\n",
            "Epoch 74/100\n",
            "39/39 [==============================] - 113s 3s/step - loss: 0.1381 - accuracy: 0.9464 - val_loss: 0.0970 - val_accuracy: 0.9680\n",
            "Epoch 75/100\n",
            "39/39 [==============================] - 106s 3s/step - loss: 0.1216 - accuracy: 0.9574 - val_loss: 0.1218 - val_accuracy: 0.9523\n",
            "Epoch 76/100\n",
            "39/39 [==============================] - 114s 3s/step - loss: 0.0910 - accuracy: 0.9720 - val_loss: 0.1677 - val_accuracy: 0.9406\n",
            "Epoch 77/100\n",
            "39/39 [==============================] - 113s 3s/step - loss: 0.0871 - accuracy: 0.9691 - val_loss: 0.1419 - val_accuracy: 0.9422\n",
            "Epoch 78/100\n",
            "39/39 [==============================] - 107s 3s/step - loss: 0.1972 - accuracy: 0.9371 - val_loss: 0.3285 - val_accuracy: 0.8875\n",
            "Epoch 79/100\n",
            "39/39 [==============================] - 112s 3s/step - loss: 0.1776 - accuracy: 0.9334 - val_loss: 0.2149 - val_accuracy: 0.9250\n",
            "Epoch 80/100\n",
            "39/39 [==============================] - 112s 3s/step - loss: 0.1340 - accuracy: 0.9492 - val_loss: 0.1525 - val_accuracy: 0.9453\n",
            "Epoch 81/100\n",
            "39/39 [==============================] - 117s 3s/step - loss: 0.1054 - accuracy: 0.9647 - val_loss: 0.1378 - val_accuracy: 0.9484\n",
            "Epoch 82/100\n",
            "39/39 [==============================] - 113s 3s/step - loss: 0.1287 - accuracy: 0.9570 - val_loss: 0.1274 - val_accuracy: 0.9477\n",
            "Epoch 83/100\n",
            "39/39 [==============================] - 112s 3s/step - loss: 0.0775 - accuracy: 0.9744 - val_loss: 0.1195 - val_accuracy: 0.9641\n",
            "Epoch 84/100\n",
            "39/39 [==============================] - 113s 3s/step - loss: 0.0673 - accuracy: 0.9789 - val_loss: 0.1296 - val_accuracy: 0.9648\n",
            "Epoch 85/100\n",
            "39/39 [==============================] - 112s 3s/step - loss: 0.0942 - accuracy: 0.9691 - val_loss: 0.1535 - val_accuracy: 0.9477\n",
            "Epoch 86/100\n",
            "39/39 [==============================] - 119s 3s/step - loss: 0.1714 - accuracy: 0.9432 - val_loss: 0.1745 - val_accuracy: 0.9391\n",
            "Epoch 87/100\n",
            "39/39 [==============================] - 113s 3s/step - loss: 0.0874 - accuracy: 0.9695 - val_loss: 0.1272 - val_accuracy: 0.9570\n",
            "Epoch 88/100\n",
            "39/39 [==============================] - 115s 3s/step - loss: 0.1287 - accuracy: 0.9566 - val_loss: 0.2163 - val_accuracy: 0.9242\n",
            "Epoch 89/100\n",
            "39/39 [==============================] - 112s 3s/step - loss: 0.1223 - accuracy: 0.9533 - val_loss: 0.1298 - val_accuracy: 0.9578\n",
            "Epoch 90/100\n",
            "39/39 [==============================] - 113s 3s/step - loss: 0.0994 - accuracy: 0.9675 - val_loss: 0.0645 - val_accuracy: 0.9805\n",
            "Epoch 91/100\n",
            "39/39 [==============================] - 105s 3s/step - loss: 0.0734 - accuracy: 0.9748 - val_loss: 0.1260 - val_accuracy: 0.9563\n",
            "Epoch 92/100\n",
            "39/39 [==============================] - 107s 3s/step - loss: 0.0564 - accuracy: 0.9817 - val_loss: 0.0929 - val_accuracy: 0.9672\n",
            "Epoch 93/100\n",
            "39/39 [==============================] - 113s 3s/step - loss: 0.0698 - accuracy: 0.9785 - val_loss: 0.0986 - val_accuracy: 0.9625\n",
            "Epoch 94/100\n",
            "39/39 [==============================] - 106s 3s/step - loss: 0.1795 - accuracy: 0.9387 - val_loss: 0.0984 - val_accuracy: 0.9633\n",
            "Epoch 95/100\n",
            "39/39 [==============================] - 114s 3s/step - loss: 0.1633 - accuracy: 0.9419 - val_loss: 0.1174 - val_accuracy: 0.9680\n",
            "Epoch 96/100\n",
            "39/39 [==============================] - 105s 3s/step - loss: 0.1429 - accuracy: 0.9537 - val_loss: 0.1734 - val_accuracy: 0.9312\n",
            "Epoch 97/100\n",
            "39/39 [==============================] - 114s 3s/step - loss: 0.0842 - accuracy: 0.9708 - val_loss: 0.1117 - val_accuracy: 0.9594\n",
            "Epoch 98/100\n",
            "39/39 [==============================] - 105s 3s/step - loss: 0.0665 - accuracy: 0.9748 - val_loss: 0.0784 - val_accuracy: 0.9711\n",
            "Epoch 99/100\n",
            "39/39 [==============================] - 107s 3s/step - loss: 0.0808 - accuracy: 0.9712 - val_loss: 0.1463 - val_accuracy: 0.9500\n",
            "Epoch 100/100\n",
            "39/39 [==============================] - 107s 3s/step - loss: 0.1040 - accuracy: 0.9659 - val_loss: 0.1078 - val_accuracy: 0.9625\n"
          ]
        }
      ]
    },
    {
      "cell_type": "markdown",
      "source": [
        "**Save The Model**"
      ],
      "metadata": {
        "id": "AON0k_r4eNRD"
      }
    },
    {
      "cell_type": "code",
      "source": [
        "model.save('Garbage1.h5')"
      ],
      "metadata": {
        "id": "JGRxn1DQdRNy"
      },
      "execution_count": null,
      "outputs": []
    },
    {
      "cell_type": "markdown",
      "source": [
        "**Model Testing**"
      ],
      "metadata": {
        "id": "HdoDJTPeeY6K"
      }
    },
    {
      "cell_type": "code",
      "source": [
        "#import numpy library\n",
        "import numpy as np\n",
        "#import load_model methood to load our saved model\n",
        "from tensorflow.keras.models import load_model\n",
        "#import image from keras.preprocessing\n",
        "from tensorflow.keras.preprocessing import image\n",
        "model=load_model('Garbage1.h5')"
      ],
      "metadata": {
        "id": "IIWr8c7geXuv"
      },
      "execution_count": null,
      "outputs": []
    },
    {
      "cell_type": "code",
      "source": [
        "img=image.load_img('/content/drive/MyDrive/Garbage classification/train/trash/trash99.jpg',\n",
        "                   target_size=(128,128))\n",
        "x=image.img_to_array(img)\n",
        "x=np.expand_dims(x,axis=0)"
      ],
      "metadata": {
        "id": "0iUYzs6-fAP5"
      },
      "execution_count": null,
      "outputs": []
    },
    {
      "cell_type": "code",
      "source": [
        "a=np.argmax(model.predict(x),axis=1)"
      ],
      "metadata": {
        "colab": {
          "base_uri": "https://localhost:8080/"
        },
        "id": "AHXv_VggfGwD",
        "outputId": "a79b73ff-4885-4f24-db62-34696643311a"
      },
      "execution_count": null,
      "outputs": [
        {
          "output_type": "stream",
          "name": "stdout",
          "text": [
            "1/1 [==============================] - 0s 156ms/step\n"
          ]
        }
      ]
    },
    {
      "cell_type": "code",
      "source": [
        "index=['0','1','2','3','4','5']\n",
        "result=str(index[a[0]])\n",
        "result"
      ],
      "metadata": {
        "colab": {
          "base_uri": "https://localhost:8080/",
          "height": 36
        },
        "id": "7tF39YIbfHYt",
        "outputId": "9373fdef-a90e-4014-d1e2-b1994b1cb049"
      },
      "execution_count": null,
      "outputs": [
        {
          "output_type": "execute_result",
          "data": {
            "text/plain": [
              "'3'"
            ],
            "application/vnd.google.colaboratory.intrinsic+json": {
              "type": "string"
            }
          },
          "metadata": {},
          "execution_count": 59
        }
      ]
    },
    {
      "cell_type": "code",
      "source": [
        "train_transform.class_indices"
      ],
      "metadata": {
        "colab": {
          "base_uri": "https://localhost:8080/"
        },
        "id": "NW1NLYTefMGO",
        "outputId": "6e42c999-de26-435f-9d5d-c242d6878c84"
      },
      "execution_count": null,
      "outputs": [
        {
          "output_type": "execute_result",
          "data": {
            "text/plain": [
              "{'cardboard': 0, 'glass': 1, 'metal': 2, 'paper': 3, 'plastic': 4, 'trash': 5}"
            ]
          },
          "metadata": {},
          "execution_count": 60
        }
      ]
    },
    {
      "cell_type": "code",
      "source": [
        "index1=['cardboard','glass','metal','paper','plastic','trash']\n",
        "result1=str(index1[a[0]])\n",
        "result1"
      ],
      "metadata": {
        "colab": {
          "base_uri": "https://localhost:8080/",
          "height": 36
        },
        "id": "5MKNYuOjfPK_",
        "outputId": "284062e6-5c29-43b0-ed8d-644067288803"
      },
      "execution_count": null,
      "outputs": [
        {
          "output_type": "execute_result",
          "data": {
            "text/plain": [
              "'paper'"
            ],
            "application/vnd.google.colaboratory.intrinsic+json": {
              "type": "string"
            }
          },
          "metadata": {},
          "execution_count": 61
        }
      ]
    }
  ]
}